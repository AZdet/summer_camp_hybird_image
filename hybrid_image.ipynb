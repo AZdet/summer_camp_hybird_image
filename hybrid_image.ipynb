{
 "metadata": {
  "language_info": {
   "codemirror_mode": {
    "name": "ipython",
    "version": 3
   },
   "file_extension": ".py",
   "mimetype": "text/x-python",
   "name": "python",
   "nbconvert_exporter": "python",
   "pygments_lexer": "ipython3",
   "version": 3
  },
  "orig_nbformat": 2,
  "kernelspec": {
   "name": "python_defaultSpec_1595123981306",
   "display_name": "Python 3.6.4 64-bit ('Miniconda3': conda)"
  }
 },
 "nbformat": 4,
 "nbformat_minor": 2,
 "cells": [
  {
   "cell_type": "code",
   "execution_count": null,
   "metadata": {},
   "outputs": [],
   "source": [
    "import numpy as np\n",
    "from numpy.fft import fft2, ifft2, fftshift, ifftshift\n",
    "import matplotlib.pyplot as plt\n",
    "from PIL import Image\n",
    "import ipywidgets as widgets\n",
    "from ipywidgets import fixed, interact_manual\n",
    "import scipy.signal"
   ]
  },
  {
   "cell_type": "markdown",
   "metadata": {},
   "source": [
    "# Fourier transform\n",
    "## high level idea\n",
    "![img1.png](img1.png)\n",
    "\n",
    "Surprisingly the combination of simple cosine/sine signals can give rise to very complicated signal. With Fourier transform, for any given signal, we can decompose it to simple componenets. \n",
    "For example, $$f(x) = cos(x) + 1/2cos(2x) + 1/3cos(3x)$$\n",
    "![image.png](img3.png)\n",
    "\n",
    "We can see the complicated signal on the left hand side can be decomposed to a combination of 1Hz, 2Hz and 3Hz signal. We can use (1, 1/2, 1/3) to represent the signal. This is called **frequency domain** representation. \n",
    "![image.png](img5.png)\n",
    "\n",
    "Genernally, we can do this to any signal besides the example above. \n",
    "In summary, **Fourier transform** converts a signal in the time domain to the frequency domain. We also have the **inverse Fourier transform** that converts a signal in the frequency domain back to the time domain. \n",
    "![image.png](rtaImage.png)"
   ]
  },
  {
   "cell_type": "markdown",
   "metadata": {},
   "source": [
    "## wrapping frequency and signal frequency\n",
    "In the class we see how to wrap a signal to a cycle:\n",
    "![img1.png](img2.png)\n",
    "\n",
    "Two important frequencies are:\n",
    "1. wrapping frequency: the frequence that the signal is wrapped to the cycle\n",
    "2. signal frequency: the frequency of the signal that is independent from the wrapping frequency\n",
    "\n",
    "In the next function, we can play around with the cos signal and see what happens when wrapping frequency = signal frequency"
   ]
  },
  {
   "cell_type": "code",
   "execution_count": null,
   "metadata": {},
   "outputs": [],
   "source": [
    "def signal_plot(wrapping_freq, signal_freq):\n",
    "    num_samples = 1000\n",
    "    ratio = signal_freq / wrapping_freq if signal_freq > wrapping_freq else signal_freq\n",
    "    sampling_points = np.linspace(0, 2 * np.pi * ratio, num_samples)\n",
    "    cos_values = np.cos(signal_freq * sampling_points)\n",
    "    T = np.linspace(0, wrapping_freq * ratio * 2 * np.pi, num_samples)\n",
    "\n",
    "    plt.figure()\n",
    "    plt.plot(sampling_points, cos_values)\n",
    "    plt.show()\n",
    "\n",
    "    plt.figure()\n",
    "    plt.polar(T, cos_values, c= 'k')\n",
    "\n",
    "    plt.show()\n",
    "interact_manual(signal_plot, wrapping_freq=(0, 10.0), signal_freq=(0, 10.0))"
   ]
  },
  {
   "cell_type": "markdown",
   "metadata": {},
   "source": [
    "From the above cell, we can see that the x-coordinate of the center of mass peaks when wrapping frequence = signal frequence.\n",
    "In the next cell, we look at a more complicated example. Now we have a signal $$f(x) = cos(2x) + cos(3x)$$\n",
    "See what happens when the wrapping frequency equal to 2 and 3. "
   ]
  },
  {
   "cell_type": "code",
   "execution_count": null,
   "metadata": {},
   "outputs": [],
   "source": [
    "def signal_plot(wrapping_freq, signal_freq):\n",
    "    num_samples = 1000\n",
    "    ratio = signal_freq / wrapping_freq if signal_freq > wrapping_freq else signal_freq\n",
    "    sampling_points = np.linspace(0, 2 * np.pi * ratio, num_samples)\n",
    "    cos_values = np.cos(signal_freq * sampling_points) + np.cos(1.5 * signal_freq * sampling_points)\n",
    "    T = np.linspace(0, wrapping_freq * ratio * 2 * np.pi, num_samples)\n",
    "\n",
    "    plt.figure()\n",
    "    plt.plot(sampling_points, cos_values)\n",
    "    plt.show()\n",
    "\n",
    "    plt.figure()\n",
    "    plt.polar(T, cos_values, c='k')\n",
    "\n",
    "    plt.show()\n",
    "interact_manual(signal_plot, wrapping_freq=(0, 5.0), signal_freq=fixed(2.0))"
   ]
  },
  {
   "cell_type": "markdown",
   "metadata": {},
   "source": [
    "By trying out all possible frequencies and see if the x-coordinate of the center of mass peaks, we can decompose any signal to a combination of simple signals. Fourier transform basically tries out all frequencies at once and gives back the peaks.\n"
   ]
  },
  {
   "cell_type": "markdown",
   "metadata": {},
   "source": [
    "## Fourier transform on Image"
   ]
  },
  {
   "cell_type": "markdown",
   "metadata": {},
   "source": [
    "For images, we have a 2D discrete version of Fourier transform for it, too. \n",
    "![image.png](img6.png)\n",
    "The corresponding frequency domain representation of the image is not a 1D histogram anymore. It becomes 2D as well. \n",
    "We can compute the maginitude $\\sqrt{x^2 + y^2}$ as a new representation:\n",
    "![image.png](img8.png)\n",
    "\n",
    "In the frequency domain representation, magnitude of low frequencies are near the center. We can see that low frequency signals are the majority. We can keep only the low frequency part and high frequency part of the signal with **low pass** and **high pass** filter. With inverse Fourier transform we can translate signal in the frequence domain back to the time domain. We can see that low frequence part corresponds the blurred part of the image and high frequence part corresponds to details of the image. \n",
    "![image.png](img7.png)"
   ]
  },
  {
   "cell_type": "markdown",
   "metadata": {},
   "source": [
    "Below are a few high level functions for the Fourier transform and the inverse Fourier transform.  "
   ]
  },
  {
   "cell_type": "code",
   "execution_count": null,
   "metadata": {},
   "outputs": [],
   "source": [
    "# discrete Fourier transform\n",
    "def DFT(img):\n",
    "    return fftshift(fft2(img))\n",
    "\n",
    "\n",
    "# take the maginitude of the result of DFT and convert it to log scale\n",
    "def scale_spectrum(dft):\n",
    "    mag = np.abs(dft)\n",
    "    return np.log10(mag + 1)\n",
    "\n",
    "\n",
    "# inverse discrete Fourier transform\n",
    "def IDFT(dft):\n",
    "    return ifft2(ifftshift(dft))\n",
    "\n",
    "# generate Gaussian kernel\n",
    "def Gaussian_kernel(size, sigma):\n",
    "    gaussian_1d = scipy.signal.gaussian(size, sigma)\n",
    "    return np.outer(gaussian_1d , gaussian_1d)\n",
    "\n",
    "# helper display function\n",
    "def show_DFT(dft):\n",
    "    plt.imshow(scale_spectrum(dft), cmap='gray')\n",
    "\n",
    "# low pass filter    \n",
    "def low_pass(dft, sigma=10):\n",
    "    size = dft.shape[0]\n",
    "    gaussian = Gaussian_kernel(size, sigma)\n",
    "    weight = gaussian\n",
    "    return dft * weight\n",
    "\n",
    "# high pass filter \n",
    "def high_pass(dft, sigma=10):\n",
    "    size = dft.shape[0]\n",
    "    gaussian = Gaussian_kernel(size, sigma)\n",
    "    weight = (1 - gaussian)\n",
    "    return dft * weight"
   ]
  },
  {
   "cell_type": "markdown",
   "metadata": {},
   "source": [
    "We can play around with Einstein's picture and examine its low frequency part and high frequency part."
   ]
  },
  {
   "cell_type": "code",
   "execution_count": null,
   "metadata": {},
   "outputs": [],
   "source": [
    "# load the grayscale image of Einstein\n",
    "img = np.array(Image.open('einstein.jpg').convert('L'))\n",
    "# perform Fourier transform\n",
    "dft = DFT(img)\n",
    "# show the result\n",
    "show_DFT(dft)"
   ]
  },
  {
   "cell_type": "code",
   "execution_count": null,
   "metadata": {},
   "outputs": [],
   "source": [
    "# apply low pass filter to get low frequency part\n",
    "low = low_pass(dft)\n",
    "show_DFT(low)\n",
    "# apply high pass filter to get high frequency part\n",
    "high = high_pass(dft)\n",
    "show_DFT(high) # notice because we use log scale for display, the center of high frequency data is not a black hole, but dft = low + high actually holds"
   ]
  },
  {
   "cell_type": "code",
   "execution_count": null,
   "metadata": {},
   "outputs": [],
   "source": [
    "# convert back to time domain\n",
    "img_low = IDFT(low).real\n",
    "plt.imshow(img_low, cmap='gray')"
   ]
  },
  {
   "cell_type": "code",
   "execution_count": null,
   "metadata": {},
   "outputs": [],
   "source": [
    "# convert back to time domain\n",
    "img_high = IDFT(high).real\n",
    "plt.imshow(img_high, cmap='gray')"
   ]
  },
  {
   "cell_type": "markdown",
   "metadata": {},
   "source": [
    "## Hybrid image\n",
    "The idea of hybrid image is to mixing two images in the frequency domain. Here are the steps to do it:\n",
    "\n",
    "1. convert two images to frequency domain with DFT\n",
    "2. get the low frequency component of one image and the high frequency component of another image\n",
    "3. convert the signals from the frequency domain back to time domain\n",
    "4. mix the low frequency component of one image with the high frequency component of another image in time domain\n"
   ]
  },
  {
   "cell_type": "code",
   "execution_count": null,
   "metadata": {},
   "outputs": [],
   "source": [
    "def hybrid_image(img1, img2):\n",
    "    # convert images to frequency domain\n",
    "    dft1 = DFT(img1)\n",
    "    dft2 = DFT(img2)\n",
    "    # get the low frequency component and the high frequency component of two images\n",
    "    low1 = low_pass(dft1)\n",
    "    high2 = high_pass(dft2)\n",
    "    # convert back to time domain\n",
    "    img1_low = IDFT(low1)\n",
    "    img2_high = IDFT(high2)\n",
    "    # mix components\n",
    "    hybrid_img = img1_low + img2_high\n",
    "    # keep only the real part of the result\n",
    "    return np.real(hybrid_img)"
   ]
  },
  {
   "cell_type": "markdown",
   "metadata": {},
   "source": [
    "## Fun with Hybrid Image\n"
   ]
  },
  {
   "cell_type": "code",
   "execution_count": null,
   "metadata": {},
   "outputs": [],
   "source": [
    "img1 = np.array(Image.open('einstein.jpg').convert('L'))\n",
    "img2 = np.array(Image.open('marilynn.png').convert('L'))\n",
    "plt.imshow(hybrid_image(img1, img2), cmap='gray')"
   ]
  },
  {
   "cell_type": "markdown",
   "metadata": {},
   "source": [
    "*Image credits*:\n",
    "\n",
    "1. *Grant Sanderson and James Hays*, https://www.youtube.com/watch?v=spUNpyF58BY&t=827s\n",
    "2. *synonyms author, https://community.sw.siemens.com/s/article/what-is-the-fourier-transform*\n",
    "3. *Andrew Zisserman, http://www.robots.ox.ac.uk/~az/lectures/ia/lect2.pdf*"
   ]
  }
 ]
}