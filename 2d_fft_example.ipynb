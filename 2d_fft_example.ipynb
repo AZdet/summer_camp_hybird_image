{
  "cells": [
    {
      "metadata": {
        "trusted": true
      },
      "cell_type": "code",
      "source": "import numpy as np\nfrom numpy.fft import fft2, ifft2, fftshift, ifftshift\nimport matplotlib.pyplot as plt\nfrom PIL import Image\nimport ipywidgets as widgets\nfrom ipywidgets import fixed, interact_manual",
      "execution_count": 1,
      "outputs": []
    },
    {
      "metadata": {
        "trusted": true
      },
      "cell_type": "code",
      "source": "# discrete Fourier transform\ndef DFT(img):\n    return fftshift(fft2(img))\n\n\n# take the maginitude of the result of DFT and convert it to log scale\ndef scale_spectrum(dft, style='mag'):\n    if style == 'mag':\n        mag = np.abs(dft)\n        return np.log10(mag + 1)\n    else:\n        phase = np.angle(dft)\n        return phase\n\n\n# inverse discrete Fourier transform\ndef IDFT(dft):\n    return ifft2(ifftshift(dft))\n\n# generate Gaussian kernel\ndef Gaussian_kernel(size, sigma):\n    gaussian_1d = scipy.signal.gaussian(size, sigma)\n    return np.outer(gaussian_1d , gaussian_1d)\n\n# helper display function\ndef show_DFT(dft, style='mag'):\n    plt.imshow(scale_spectrum(dft, style), cmap='gray')\n\n# low pass filter    \ndef low_pass(dft, sigma=15):\n    size = dft.shape[0]\n    gaussian = Gaussian_kernel(size, sigma)\n    weight = gaussian\n    return dft * weight\n\n# high pass filter \ndef high_pass(dft, sigma=15):\n    size = dft.shape[0]\n    gaussian = Gaussian_kernel(size, sigma)\n    weight = (1 - gaussian)\n    return dft * weight",
      "execution_count": 2,
      "outputs": []
    },
    {
      "metadata": {
        "trusted": true
      },
      "cell_type": "code",
      "source": "img = np.array(Image.open('grace.png').convert('L'))\ndft = DFT(img)",
      "execution_count": 4,
      "outputs": []
    },
    {
      "metadata": {
        "trusted": true
      },
      "cell_type": "code",
      "source": "from math import ceil\nfrom mpl_toolkits.axes_grid1 import ImageGrid\n%config InlineBackend.print_figure_kwargs = {'bbox_inches':None}\n\ndef plot(step):\n    dft_flat = dft.flatten()\n    mag = np.abs(dft_flat)\n    idx = np.argsort(mag)\n    imgs = []\n    step += 1\n    num_cols = 10\n    num_rows = ceil(step / num_cols)\n    num_cols = min(step, num_cols)\n    fig = plt.figure(figsize=(50, 50))\n    ax = ImageGrid(fig, 111,  # similar to subplot(111)\n                 nrows_ncols=(num_rows, num_cols),  # creates 2x2 grid of axes\n                 axes_pad=0.5,  # pad between axes in inch.\n                 )\n    \n    #fig, ax = plt.subplots(num_rows, num_cols)\n    #fig.figsize = (10,10)\n    for i in range(num_rows * num_cols):\n        if i < step - 1:\n            mask = np.zeros_like(mag)\n            mask[idx[-(i*2+2)]] = 1\n            dft_new = dft_flat * mask\n            dft_new = dft_new.reshape(dft.shape)\n            img = IDFT(dft_new).real\n            ax[i].imshow(img, cmap='gray')\n            ax[i].axis('off')\n            imgs.append(img)\n        elif i == step - 1:\n            img_approx = np.array(imgs).sum(axis=0)\n            ax[i].imshow(img_approx, cmap='gray')\n            ax[i].axis('off')\n        else:\n            ax[i].remove()\n    plt.show()\ninteract_manual(plot, step=(1,65))",
      "execution_count": 5,
      "outputs": [
        {
          "output_type": "display_data",
          "data": {
            "application/vnd.jupyter.widget-view+json": {
              "model_id": "bcebd2d0a1224516b2951408f1dfe556",
              "version_minor": 0,
              "version_major": 2
            },
            "text/plain": "interactive(children=(IntSlider(value=33, description='step', max=65, min=1), Button(description='Run Interact…"
          },
          "metadata": {}
        },
        {
          "output_type": "execute_result",
          "execution_count": 5,
          "data": {
            "text/plain": "<function __main__.plot(step)>"
          },
          "metadata": {}
        }
      ]
    }
  ],
  "metadata": {
    "kernelspec": {
      "name": "python36",
      "display_name": "Python 3.6",
      "language": "python"
    },
    "language_info": {
      "mimetype": "text/x-python",
      "nbconvert_exporter": "python",
      "name": "python",
      "pygments_lexer": "ipython3",
      "version": "3.6.6",
      "file_extension": ".py",
      "codemirror_mode": {
        "version": 3,
        "name": "ipython"
      }
    }
  },
  "nbformat": 4,
  "nbformat_minor": 1
}